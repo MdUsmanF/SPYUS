{
 "cells": [
  {
   "cell_type": "code",
   "execution_count": 26,
   "id": "a15fca17-fdd5-47c6-ba8c-361a8cef7c60",
   "metadata": {
    "tags": []
   },
   "outputs": [],
   "source": [
    "#Import all the libraries\n",
    "\n",
    "import pandas as pd\n",
    "import numpy as np\n",
    "import os\n",
    "import matplotlib.pyplot as plt\n",
    "from sklearn.model_selection import train_test_split\n",
    "from sklearn.preprocessing import LabelEncoder\n",
    "from sklearn.preprocessing import StandardScaler\n",
    "import tensorflow as tf\n",
    "from tensorflow.keras import layers\n",
    "from tensorflow.keras.models import Sequential\n",
    "from tensorflow.keras.layers import Dense\n",
    "from sklearn.ensemble import RandomForestClassifier\n",
    "from sklearn.model_selection import train_test_split\n",
    "from sklearn.ensemble import RandomForestClassifier\n",
    "from sklearn.neighbors import KNeighborsClassifier\n",
    "from sklearn.metrics import accuracy_score, classification_report\n",
    "from sklearn import tree\n",
    "from sklearn.model_selection import cross_val_score\n",
    "from sklearn.naive_bayes import BernoulliNB\n",
    "from sklearn.tree import DecisionTreeClassifier\n",
    "from sklearn.discriminant_analysis import QuadraticDiscriminantAnalysis\n",
    "from sklearn.linear_model import Perceptron\n",
    "\n",
    "from sklearn.preprocessing import StandardScaler\n",
    "import tensorflow as tf\n",
    "from tensorflow.keras import layers\n",
    "from tensorflow.keras.models import Sequential\n",
    "from tensorflow.keras.layers import Dense\n",
    "from sklearn.preprocessing import LabelEncoder\n",
    "from sklearn.pipeline import Pipeline"
   ]
  },
  {
   "cell_type": "code",
   "execution_count": 2,
   "id": "a14c1318-416e-4b1e-b436-58974c9905b1",
   "metadata": {
    "tags": []
   },
   "outputs": [],
   "source": [
    "def load_dataset(path):\n",
    "  \"\"\"\n",
    "  Loads a dataset from a given path.\n",
    "\n",
    "  Args:\n",
    "    path: The path to the dataset.\n",
    "\n",
    "  Returns:\n",
    "    The loaded dataset.\n",
    "  \"\"\"\n",
    "\n",
    "  # Check if the path exists.\n",
    "  if not os.path.exists(path):\n",
    "    raise ValueError(\"The provided path does not exist.\")\n",
    "\n",
    "  # Load the dataset using the appropriate library based on the file format.\n",
    "  # For example, you could use pandas to load a CSV file.\n",
    "  dataset = pd.read_csv(path)\n",
    "\n",
    "  return dataset\n"
   ]
  },
  {
   "cell_type": "code",
   "execution_count": 16,
   "id": "daddcea0-3cb7-428a-bd50-394353929924",
   "metadata": {
    "tags": []
   },
   "outputs": [],
   "source": [
    "def preprocess_data(data):\n",
    "    # Replace infinity or large values with NaN\n",
    "    numeric_cols = data.select_dtypes(include=[np.number]).columns\n",
    "    data[numeric_cols].replace([np.inf, -np.inf], np.nan, inplace=True)\n",
    "    data[(data[numeric_cols].abs() > 1e10)] = np.nan\n",
    "\n",
    "    # Drop one variable features\n",
    "    one_variable_list = []\n",
    "    for i in data.columns:\n",
    "        if data[i].value_counts().nunique() < 2:\n",
    "            one_variable_list.append(i)\n",
    "    data.drop(one_variable_list, axis=1, inplace=True)\n",
    "    data.columns =  data.columns.str.strip()\n",
    "\n",
    "    # Dropping duplicate rows\n",
    "    data = data.drop_duplicates(keep=\"first\")\n",
    "    data.reset_index(drop=True, inplace=True)\n",
    "\n",
    "    # Dropping Null values\n",
    "    data.dropna(inplace=True)\n",
    "\n",
    "    return data"
   ]
  },
  {
   "cell_type": "code",
   "execution_count": 17,
   "id": "4189ce83-c171-4531-8553-f12edf7d3d90",
   "metadata": {
    "tags": []
   },
   "outputs": [],
   "source": [
    "def correlation(data):\n",
    "    # Exclude non-numeric columns\n",
    "    numeric_data = data.select_dtypes(include=[np.number])\n",
    "\n",
    "    # Calculate correlation matrix\n",
    "    corr_matrix = numeric_data.corr().abs()\n",
    "\n",
    "    # Create upper triangle matrix\n",
    "    upper = corr_matrix.where(np.triu(np.ones(corr_matrix.shape), k=1).astype(bool))\n",
    "\n",
    "    # Find features with correlation greater than 0.95 and drop them\n",
    "    to_drop = [column for column in upper.columns if any(upper[column] > 0.95)]\n",
    "    data = data.drop(to_drop, axis=1)\n",
    "    shape = data.shape\n",
    "    \n",
    "    return shape"
   ]
  },
  {
   "cell_type": "code",
   "execution_count": 18,
   "id": "fb44d7ad-c58c-4f37-9c4d-ba73306e8fb1",
   "metadata": {
    "tags": []
   },
   "outputs": [],
   "source": [
    "def split_data(data):\n",
    "    # data = data.replace([np.inf , -np.inf],inplace=True)\n",
    "    X = data.drop([\"Label\"],axis=1)\n",
    "    y = data[\"Label\"]\n",
    "    X_train, X_test, y_train, y_test = train_test_split(X, y, test_size=0.2, random_state=42)\n",
    "    # # Standardize the features\n",
    "    # scaler = StandardScaler()\n",
    "    # X_train = scaler.fit_transform(X_train)\n",
    "    # X_test = scaler.transform(X_test)\n",
    "    \n",
    "    return X_train, X_test, y_train, y_test"
   ]
  },
  {
   "cell_type": "code",
   "execution_count": 19,
   "id": "e2b8aa3d-9e46-4220-817b-1656d053fc16",
   "metadata": {
    "jupyter": {
     "source_hidden": true
    },
    "tags": []
   },
   "outputs": [],
   "source": [
    "def model_train(X_train, X_test, y_train, y_test):\n",
    "    models = {\n",
    "    # 'Naive Bayes': BernoulliNB(),\n",
    "    'Decision Tree': DecisionTreeClassifier(),\n",
    "    'KNN': KNeighborsClassifier(),\n",
    "    'Quadratic Discriminant Analysis': QuadraticDiscriminantAnalysis(),\n",
    "    'Perceptron': Perceptron(),\n",
    "    'Random Forest': RandomForestClassifier()\n",
    "}\n",
    "    results = {}\n",
    "    for name, model in models.items():\n",
    "        model.fit(X_train, y_train)\n",
    "        y_pred = model.predict(X_test)\n",
    "        accuracy = accuracy_score(y_test, y_pred)\n",
    "        report = classification_report(y_test, y_pred)\n",
    "        results[name] = {'accuracy': accuracy, 'report': report}\n",
    "    # Print the results\n",
    "    print('Results:')\n",
    "    print('Model | Accuracy | Report')\n",
    "    print('---|---|---')\n",
    "    for name, result in results.items():\n",
    "        print(f'{name} | {result[\"accuracy\"]}')\n",
    "        print(f'{result[\"report\"]}')"
   ]
  },
  {
   "cell_type": "code",
   "execution_count": 20,
   "id": "82ab2a85-6d33-48d3-ac86-c005da54da28",
   "metadata": {
    "tags": []
   },
   "outputs": [],
   "source": [
    "data = load_dataset(\"1.csv\")"
   ]
  },
  {
   "cell_type": "code",
   "execution_count": 21,
   "id": "c518c407-c35e-4c5b-ae06-35d5420f842b",
   "metadata": {
    "tags": []
   },
   "outputs": [
    {
     "name": "stderr",
     "output_type": "stream",
     "text": [
      "/tmp/ipykernel_192/391613588.py:4: SettingWithCopyWarning: \n",
      "A value is trying to be set on a copy of a slice from a DataFrame\n",
      "\n",
      "See the caveats in the documentation: https://pandas.pydata.org/pandas-docs/stable/user_guide/indexing.html#returning-a-view-versus-a-copy\n",
      "  data[numeric_cols].replace([np.inf, -np.inf], np.nan, inplace=True)\n"
     ]
    },
    {
     "name": "stdout",
     "output_type": "stream",
     "text": [
      "        Destination Port  Flow Duration  Total Fwd Packets  \\\n",
      "0                     80          38308                  1   \n",
      "1                    389            479                 11   \n",
      "2                     88           1095                 10   \n",
      "3                    389          15206                 17   \n",
      "4                     88           1092                  9   \n",
      "...                  ...            ...                ...   \n",
      "610789                53          32215                  4   \n",
      "610790                53            324                  2   \n",
      "610791             58030             82                  2   \n",
      "610792                53        1048635                  6   \n",
      "610793                53          94939                  4   \n",
      "\n",
      "        Total Backward Packets  Total Length of Fwd Packets  \\\n",
      "0                            1                            6   \n",
      "1                            5                          172   \n",
      "2                            6                         3150   \n",
      "3                           12                         3452   \n",
      "4                            6                         3150   \n",
      "...                        ...                          ...   \n",
      "610789                       2                          112   \n",
      "610790                       2                           84   \n",
      "610791                       1                           31   \n",
      "610792                       2                          192   \n",
      "610793                       2                          188   \n",
      "\n",
      "        Total Length of Bwd Packets  Fwd Packet Length Max  \\\n",
      "0                                 6                      6   \n",
      "1                               326                     79   \n",
      "2                              3150                   1575   \n",
      "3                              6660                   1313   \n",
      "4                              3152                   1575   \n",
      "...                             ...                    ...   \n",
      "610789                          152                     28   \n",
      "610790                          362                     42   \n",
      "610791                            6                     31   \n",
      "610792                          256                     32   \n",
      "610793                          226                     47   \n",
      "\n",
      "        Fwd Packet Length Min  Fwd Packet Length Mean  Fwd Packet Length Std  \\\n",
      "0                           6                6.000000               0.000000   \n",
      "1                           0               15.636364              31.449238   \n",
      "2                           0              315.000000             632.561635   \n",
      "3                           0              203.058823             425.778474   \n",
      "4                           0              350.000000             694.509719   \n",
      "...                       ...                     ...                    ...   \n",
      "610789                     28               28.000000               0.000000   \n",
      "610790                     42               42.000000               0.000000   \n",
      "610791                      0               15.500000              21.920310   \n",
      "610792                     32               32.000000               0.000000   \n",
      "610793                     47               47.000000               0.000000   \n",
      "\n",
      "        ...  min_seg_size_forward  Active Mean  Active Std  Active Max  \\\n",
      "0       ...                    20          0.0         0.0           0   \n",
      "1       ...                    32          0.0         0.0           0   \n",
      "2       ...                    32          0.0         0.0           0   \n",
      "3       ...                    32          0.0         0.0           0   \n",
      "4       ...                    32          0.0         0.0           0   \n",
      "...     ...                   ...          ...         ...         ...   \n",
      "610789  ...                    20          0.0         0.0           0   \n",
      "610790  ...                    20          0.0         0.0           0   \n",
      "610791  ...                    32          0.0         0.0           0   \n",
      "610792  ...                    20          0.0         0.0           0   \n",
      "610793  ...                    20          0.0         0.0           0   \n",
      "\n",
      "        Active Min  Idle Mean  Idle Std  Idle Max  Idle Min   Label  \n",
      "0                0        0.0       0.0         0         0  BENIGN  \n",
      "1                0        0.0       0.0         0         0  BENIGN  \n",
      "2                0        0.0       0.0         0         0  BENIGN  \n",
      "3                0        0.0       0.0         0         0  BENIGN  \n",
      "4                0        0.0       0.0         0         0  BENIGN  \n",
      "...            ...        ...       ...       ...       ...     ...  \n",
      "610789           0        0.0       0.0         0         0  BENIGN  \n",
      "610790           0        0.0       0.0         0         0  BENIGN  \n",
      "610791           0        0.0       0.0         0         0  BENIGN  \n",
      "610792           0        0.0       0.0         0         0  BENIGN  \n",
      "610793           0        0.0       0.0         0         0  BENIGN  \n",
      "\n",
      "[610492 rows x 69 columns]\n"
     ]
    },
    {
     "name": "stderr",
     "output_type": "stream",
     "text": [
      "/tmp/ipykernel_192/391613588.py:20: SettingWithCopyWarning: \n",
      "A value is trying to be set on a copy of a slice from a DataFrame\n",
      "\n",
      "See the caveats in the documentation: https://pandas.pydata.org/pandas-docs/stable/user_guide/indexing.html#returning-a-view-versus-a-copy\n",
      "  data.dropna(inplace=True)\n"
     ]
    }
   ],
   "source": [
    "print(preprocess_data(data))"
   ]
  },
  {
   "cell_type": "code",
   "execution_count": 22,
   "id": "180fe47f-dca2-48ca-b0b7-8458a6f12a3c",
   "metadata": {
    "tags": []
   },
   "outputs": [
    {
     "name": "stdout",
     "output_type": "stream",
     "text": [
      "(692703, 40)\n"
     ]
    }
   ],
   "source": [
    "print(correlation(data))"
   ]
  },
  {
   "cell_type": "code",
   "execution_count": null,
   "id": "7fd02736-3d81-43db-b02d-e431da0a8f44",
   "metadata": {},
   "outputs": [],
   "source": [
    "# Split data into X and y\n",
    "X = data.drop(\"Label\", axis=1)\n",
    "y = data[\"Label\"]"
   ]
  },
  {
   "cell_type": "code",
   "execution_count": 23,
   "id": "1f5dcad5-4ee5-4151-a728-cc5a2b727ee9",
   "metadata": {
    "tags": []
   },
   "outputs": [],
   "source": [
    "X_train, X_test, y_train, y_test = split_data(data)"
   ]
  },
  {
   "cell_type": "code",
   "execution_count": 29,
   "id": "5dd3d6be-905e-4e9a-af1c-ee4868d8e7ce",
   "metadata": {
    "tags": []
   },
   "outputs": [],
   "source": [
    "def model_train(X_train, X_test, y_train, y_test):\n",
    "    models = {\n",
    "        'Naive Bayes': BernoulliNB(),\n",
    "        'Decision Tree': DecisionTreeClassifier(),\n",
    "        'KNN': KNeighborsClassifier(),\n",
    "        'Quadratic Discriminant Analysis': QuadraticDiscriminantAnalysis(),\n",
    "        'Perceptron': Perceptron(),\n",
    "        'Random Forest': RandomForestClassifier()\n",
    "    }\n",
    "    \n",
    "    results = {}\n",
    "    for name, model in models.items():\n",
    "        pipeline = Pipeline([\n",
    "            ('imputer', SimpleImputer(strategy='mean')),  # Impute missing values with mean\n",
    "            ('model', model)\n",
    "        ])\n",
    "        \n",
    "        pipeline.fit(X_train, y_train)\n",
    "        y_pred = pipeline.predict(X_test)\n",
    "        accuracy = accuracy_score(y_test, y_pred)\n",
    "        results[name] = accuracy\n",
    "        print(f\"{name} Accuracy: {accuracy}\")\n",
    "    \n",
    "    return results"
   ]
  },
  {
   "cell_type": "code",
   "execution_count": 30,
   "id": "aac4b05e-e681-4661-a9d6-f037981f0f98",
   "metadata": {
    "tags": []
   },
   "outputs": [
    {
     "name": "stdout",
     "output_type": "stream",
     "text": [
      "Naive Bayes Accuracy: 0.6851762294194499\n",
      "Decision Tree Accuracy: 0.9994658620913665\n",
      "KNN Accuracy: 0.9950483972253701\n"
     ]
    },
    {
     "name": "stderr",
     "output_type": "stream",
     "text": [
      "/home/studio-lab-user/.conda/envs/default/lib/python3.9/site-packages/sklearn/discriminant_analysis.py:935: UserWarning: Variables are collinear\n",
      "  warnings.warn(\"Variables are collinear\")\n"
     ]
    },
    {
     "name": "stdout",
     "output_type": "stream",
     "text": [
      "Quadratic Discriminant Analysis Accuracy: 0.9940595202864134\n",
      "Perceptron Accuracy: 0.9054720263315553\n",
      "Random Forest Accuracy: 0.9994514259316737\n",
      "{'Naive Bayes': 0.6851762294194499, 'Decision Tree': 0.9994658620913665, 'KNN': 0.9950483972253701, 'Quadratic Discriminant Analysis': 0.9940595202864134, 'Perceptron': 0.9054720263315553, 'Random Forest': 0.9994514259316737}\n"
     ]
    }
   ],
   "source": [
    "from sklearn.impute import SimpleImputer\n",
    "from sklearn.pipeline import Pipeline\n",
    "from sklearn.neighbors import KNeighborsClassifier\n",
    "from sklearn.model_selection import train_test_split\n",
    "from sklearn.metrics import accuracy_score\n",
    "print(model_train(X_train, X_test, y_train, y_test))"
   ]
  },
  {
   "cell_type": "code",
   "execution_count": null,
   "id": "85e01b88-fa3d-4e18-a3ba-661cef33c4d6",
   "metadata": {},
   "outputs": [],
   "source": []
  }
 ],
 "metadata": {
  "kernelspec": {
   "display_name": "default:Python",
   "language": "python",
   "name": "conda-env-default-py"
  },
  "language_info": {
   "codemirror_mode": {
    "name": "ipython",
    "version": 3
   },
   "file_extension": ".py",
   "mimetype": "text/x-python",
   "name": "python",
   "nbconvert_exporter": "python",
   "pygments_lexer": "ipython3",
   "version": "3.9.16"
  }
 },
 "nbformat": 4,
 "nbformat_minor": 5
}
